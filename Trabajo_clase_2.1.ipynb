{
  "nbformat": 4,
  "nbformat_minor": 0,
  "metadata": {
    "colab": {
      "provenance": []
    },
    "kernelspec": {
      "name": "python3",
      "display_name": "Python 3"
    },
    "language_info": {
      "name": "python"
    }
  },
  "cells": [
    {
      "cell_type": "code",
      "execution_count": 1,
      "metadata": {
        "id": "FdIOo-Emoaaa",
        "colab": {
          "base_uri": "https://localhost:8080/"
        },
        "outputId": "2fc4e0ad-bf9f-4dc1-a897-ed0c706dfb36"
      },
      "outputs": [
        {
          "output_type": "stream",
          "name": "stdout",
          "text": [
            "Ingrese el primer digito3\n",
            "Ingrese el segundo digito45\n",
            "135\n"
          ]
        }
      ],
      "source": [
        "A=int(input(\"Ingrese el primer digito\"))\n",
        "B=int(input(\"Ingrese el segundo digito\"))\n",
        "ACUMULADOR=0\n",
        "\n",
        "while True:\n",
        "  ACUMULADOR+=A\n",
        "  B-=1\n",
        "\n",
        "  if B==0:  #Asegurarse de que el condicional if y break estén dentro del ciclo.\n",
        "    print(ACUMULADOR)\n",
        "    break\n",
        "\n",
        "\n",
        "\n",
        "\n",
        "\n"
      ]
    },
    {
      "cell_type": "code",
      "source": [
        "\n"
      ],
      "metadata": {
        "id": "GU0DoA1atfn3"
      },
      "execution_count": null,
      "outputs": []
    }
  ]
}