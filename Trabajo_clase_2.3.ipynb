{
  "nbformat": 4,
  "nbformat_minor": 0,
  "metadata": {
    "colab": {
      "provenance": []
    },
    "kernelspec": {
      "name": "python3",
      "display_name": "Python 3"
    },
    "language_info": {
      "name": "python"
    }
  },
  "cells": [
    {
      "cell_type": "code",
      "execution_count": null,
      "metadata": {
        "id": "FdIOo-Emoaaa"
      },
      "outputs": [],
      "source": [
        "A=int(input(\"Ingrese el primer digito:\"))\n",
        "B=int(input(\"Ingrese el segundo digito:\"))\n",
        "ACUMULADOR=0\n",
        "\n",
        "while True:\n",
        "  ACUMULADOR+=A\n",
        "  B-=1\n",
        "\n",
        "  if B==0:  #Asegurarse de que el condicional if y break estén dentro del ciclo.\n",
        "    print(ACUMULADOR)\n",
        "    break"
      ]
    },
    {
      "cell_type": "code",
      "source": [
        "acum_notas=0\n",
        "num_notas=0\n",
        "\n",
        "while True:\n",
        "  nota=float(input(\"Ingrese una nota  entre 0 y 5, o ingrese -1 para terminar: \"))\n",
        "  if nota==-1:\n",
        "    break\n",
        "\n",
        "  if nota<0 or nota>5:\n",
        "    print(\"ERROR, ingrese una nota valida (0-5)\")\n",
        "    continue\n",
        "  acum_notas+=nota\n",
        "  num_notas+=1\n",
        "\n",
        "promedio=acum_notas//num_notas\n",
        "print(\"El promedio de notas es:\", promedio)\n"
      ],
      "metadata": {
        "id": "dWbO1mXjyKHf"
      },
      "execution_count": null,
      "outputs": []
    },
    {
      "cell_type": "code",
      "source": [
        "cont=0\n",
        "acum=1\n",
        "\n",
        "while True:\n",
        "  n=int(input(\"Ingrese el valor de n. entre (0-9)\"))\n",
        "  x=int(input(\"Ingrese el valor de x. entre (0-9)\"))\n",
        "\n",
        "  if 0<=n <=9 and 0<=x <=9:\n",
        "    break\n",
        "  else:\n",
        "    print(\"ERROR, ingrese valores entre 0 y 9\")\n",
        "\n",
        "while cont<=n:\n",
        "  resultado=acum\n",
        "  print(f\"{x}**{cont}={resultado}\")\n",
        "\n",
        "  cont+=1\n",
        "  acum*=x\n",
        "\n",
        "\n",
        "\n"
      ],
      "metadata": {
        "id": "E2pNoECObr6N",
        "colab": {
          "base_uri": "https://localhost:8080/"
        },
        "outputId": "d2958324-a4de-41fd-b414-e17b9d8ebbde"
      },
      "execution_count": null,
      "outputs": [
        {
          "output_type": "stream",
          "name": "stdout",
          "text": [
            "Ingrese el valor de n. entre (0-9)3\n",
            "Ingrese el valor de x. entre (0-9)2\n",
            "2**0=1\n",
            "2**1=2\n",
            "2**2=4\n",
            "2**3=8\n"
          ]
        }
      ]
    }
  ]
}