{
  "nbformat": 4,
  "nbformat_minor": 0,
  "metadata": {
    "colab": {
      "provenance": []
    },
    "kernelspec": {
      "name": "python3",
      "display_name": "Python 3"
    },
    "language_info": {
      "name": "python"
    }
  },
  "cells": [
    {
      "cell_type": "code",
      "source": [
        "nota_1=float(input(\"nota1:\"))\n",
        "nota_2=float(input(\"nota2:\"))\n",
        "nota_3=float(input(\"nota3:\"))\n",
        "nota_4=float(input(\"nota4:\"))\n",
        "nota_5=float(input(\"nota5:\"))\n",
        "\n",
        "prom = (nota_1*0.3+nota_2*0.15+nota_3*0.15+nota_4*0.2+nota_5*0.3)\n",
        "if prom>=3:\n",
        "  print(\"Aprobado\")\n",
        "  print(prom)\n",
        "\n",
        "else:\n",
        "  print(\"Reprobado\")\n",
        "  print(prom)\n"
      ],
      "metadata": {
        "id": "uRdn74SAWIXl"
      },
      "execution_count": null,
      "outputs": []
    },
    {
      "cell_type": "code",
      "execution_count": null,
      "metadata": {
        "id": "rRFcm10kVJwh"
      },
      "outputs": [],
      "source": [
        "A=int(input(\"Ingrese el valor de A: \"))\n",
        "B=int(input(\"Ingrese el valor de B: \"))\n",
        "\n",
        "if A>B:\n",
        "  print(\"A es mayor que B\")\n",
        "\n",
        "elif A<B:\n",
        "  print(\"A es menor que B\")\n",
        "\n",
        "else:\n",
        "    print(\"A es igual a B\")\n"
      ]
    },
    {
      "cell_type": "code",
      "source": [
        "Y=int(input(\" Ingrese el valor de Y:\"))\n",
        "Z=int(input(\"Ingrese el valor de Z:\"))\n",
        "\n",
        "if Y>Z:\n",
        "  print(\"X=1\")\n",
        "\n",
        "elif Y<Z:\n",
        "  print(\"X=3\")\n",
        "\n",
        "else:\n",
        "  print(\"Y=Z\")\n"
      ],
      "metadata": {
        "id": "Pnbni0-3ZJde"
      },
      "execution_count": null,
      "outputs": []
    },
    {
      "cell_type": "code",
      "source": [
        "A=int(input(\"Ingrese el valor de A:\"))\n",
        "B=int(input(\"Ingrese el valor de B:\"))\n",
        "C=int(input(\"Ingrese el valor de C:\"))\n",
        "\n",
        "if A>B>C:\n",
        "   print(A,B,C)\n",
        "\n",
        "elif A>C>B:\n",
        "  print(A,C,B)\n",
        "\n",
        "elif B>A>C:\n",
        "  print(B,A,C)\n",
        "\n",
        "elif B>C>A:\n",
        "  print(B,C,A)\n",
        "\n",
        "elif C>A>B:\n",
        "  print(C,A,B)\n",
        "\n",
        "elif C>B>A:\n",
        "  print(C,B,A) #AAAAAAAAAAAAAAAAAAAAAAAAAAAA CASI NO ME SALEEEEE :)\n",
        "\n",
        "else:\n",
        "  print(A,B,C) #por si los valores son iguales, me falta cuando dos valores son iguales\n"
      ],
      "metadata": {
        "id": "roKwkx99WVxT"
      },
      "execution_count": null,
      "outputs": []
    },
    {
      "cell_type": "code",
      "source": [
        "A>C"
      ],
      "metadata": {
        "colab": {
          "base_uri": "https://localhost:8080/"
        },
        "id": "agwMbxFfptXp",
        "outputId": "e136794c-2a9c-4664-c7b3-84fc56252e38"
      },
      "execution_count": null,
      "outputs": [
        {
          "output_type": "execute_result",
          "data": {
            "text/plain": [
              "False"
            ]
          },
          "metadata": {},
          "execution_count": 10
        }
      ]
    },
    {
      "cell_type": "code",
      "source": [
        "INSCRIPCION=int(input(\"Ingrese su número de inscripción:\"))\n",
        "NOMBRE=(input(\"Ingrese su nombre completo:\"))\n",
        "PATRIMONIO=float(input(\"Ingrese su patrimonio:\"))\n",
        "ESTRATO=int(input(\"Ingrese su estrato socioeconómico:\"))\n",
        "\n",
        "if PATRIMONIO>2000000 and ESTRATO>3:\n",
        "  print(\"Su valor a pagar es: \")\n",
        "  print(PATRIMONIO*0.3)\n",
        "\n",
        "elif PATRIMONIO>2000000 and ESTRATO <=3:\n",
        "  print(\"Su valor a pagar es: 50.000\")\n",
        "\n",
        "elif PATRIMONIO<=2000000 and ESTRATO>3:\n",
        "  print(\"Su valor a pagar es: 50.000\")\n",
        "\n",
        "elif PATRIMONIO<=2000000 and ESTRATO<=3:\n",
        "  print(\"Su valor a pagar es: 50.000\")\n"
      ],
      "metadata": {
        "id": "I4WPtBA-acsG"
      },
      "execution_count": null,
      "outputs": []
    },
    {
      "cell_type": "code",
      "source": [
        "M1=int(input(\"Ingrese la masa de la esfera 1:\"))\n",
        "V1=int(input(\"Ingrese el volumen de la esfera 1:\"))\n",
        "M2=int(input(\"Ingrese la masa de la esfera 2:\"))\n",
        "V2=int(input(\"Ingrese el volumen de la esfera 2:\"))\n",
        "M3=int(input(\"Ingrese la masa de la esfera 3:\"))\n",
        "V3=int(input(\"Ingrese el volumen de la esfera 3:\"))\n",
        "\n",
        "D1=(M1//V1)\n",
        "D2=(M2//V2)\n",
        "D3=(M3//V3)\n",
        "\n",
        "if D1>D2 and D1>D3:\n",
        "  print(\"La esfera de mayor densidad es la 1.\", \"ρ =\",D1 )\n",
        "\n",
        "elif D2>D1 and D2>D3:\n",
        "  print(\"La esfera de mayor densidad es la 2.\", \"ρ =\",D2)\n",
        "\n",
        "elif D3>D1 and D3>D2:\n",
        "  print(\"La esfera de mayor densidad es la 3.\", \"ρ =\",D3)\n",
        "\n",
        "elif D1==D2 and D1>D3:\n",
        "  print(\"La esfera de mayor densidad es la 1.\", \"ρ =\",D1)\n",
        "\n",
        "elif D1==D2 and D2>D3:\n",
        "  print(\"La esfera de mayor densidad es la 2.\", \"ρ =\",D2)\n",
        "\n",
        "elif D1==D3 and D1>D2:\n",
        "  print(\"La esfera de mayor densidad es la 1.\", \"ρ =\",D1)\n",
        "\n",
        "elif D1==D3 and D3>D2:\n",
        "  print(\"La esfera de mayor densidad es la 3.\", \"ρ =\",D3)\n",
        "\n",
        "elif D2==D3 and D2>D1:\n",
        "  print(\"La esfera de mayor densidad es la 2.\", \"ρ =\",D2)\n",
        "\n",
        "elif D2==D3 and D3>D1:\n",
        "  print(\"La esfera de mayor densidad es la 3.\", \"ρ =\",D3)\n",
        "\n",
        "else:\n",
        "  print(\"Las tres esferas tienen igual densidad\")"
      ],
      "metadata": {
        "id": "GUDZgWVkeVuR"
      },
      "execution_count": null,
      "outputs": []
    },
    {
      "cell_type": "code",
      "source": [
        "MENSAJE=(input(\"Ingrese valores diferentes\"))\n",
        "A=int(input(\"Ingrese el dato 1:\"))\n",
        "B=int(input(\"Ingrese el dato 2:\"))\n",
        "C=int (input(\"Ingrese el dato 3:\"))\n",
        "D=int(input(\"Ingrese el dato 4:\"))\n",
        "\n",
        "if A>B and A>C and A>D and B<C and B<D:\n",
        "  print(A+B)\n",
        "\n",
        "elif A>B and A>C and A>D and C<B and C<D:\n",
        "  print(A+C)\n",
        "\n",
        "elif A>B and A>C and A>D and D<B and D<C:\n",
        "  print(A+C)\n",
        "\n",
        "elif B>A and B>C and B>D and A<C and A<D:\n",
        "  print(B+C)\n",
        "\n",
        "elif B>A and B>C and B>D and C<A and C<D:\n",
        "  print(B+C)\n",
        "\n",
        "elif B>A and B>C and B>D and D<A and D<C:\n",
        "  print(B+C)\n",
        "\n",
        "elif C>A and C>B and C>D and A<B and A<D:\n",
        "  print(C+A)\n",
        "\n",
        "elif C>A and C>B and C>D and B<A and B<D:\n",
        "  print(C+B)\n",
        "\n",
        "elif D>A and D>B and D>C and A<B and A<C:\n",
        "  print(D+A)\n",
        "\n",
        "elif D>A and D>B and D>C and B<A and B<C:\n",
        "  print(D+B)\n",
        "\n",
        "elif D>A and D>B and D>C and C<A and C<B:\n",
        "  print(D+C)\n"
      ],
      "metadata": {
        "id": "bA43M8x4muWJ"
      },
      "execution_count": null,
      "outputs": []
    },
    {
      "cell_type": "code",
      "source": [
        "#Otra opción\n",
        "A=int(input(\"Ingrese el dato 1:\"))\n",
        "B=int(input(\"Ingrese el dato 2:\"))\n",
        "C=int (input(\"Ingrese el dato 3:\"))\n",
        "D=int(input(\"Ingrese el dato 4:\"))\n",
        "\n",
        "if A>=B and A>=C and A>=D:\n",
        "  numero_mayor=A\n",
        "\n",
        "elif B>=A and B>=C and B>=D:\n",
        "  numero_mayor=B\n",
        "\n",
        "elif C>=A and C>=B and C>=D:\n",
        "  numero_mayor=C\n",
        "\n",
        "else:\n",
        "  numero_mayor=D\n",
        "\n",
        "if A<=B and A<=C and A<=D:\n",
        "  numero_menor=A\n",
        "\n",
        "elif B<=A and B<=C and B<=D:\n",
        "  numero_menor=B\n",
        "\n",
        "elif C<=A and C<=B and C<=D:\n",
        "  numero_menor=C\n",
        "\n",
        "else:\n",
        "  numero_menor=D\n",
        "\n",
        "Suma=numero_menor+numero_mayor\n",
        "\n",
        "print(\"El valor mayor es:{numero_mayor}\")\n",
        "print(\"El valor menor es:{numero_menor}\")\n",
        "print(\"La suma de ambos es:\")\n",
        "print(Suma)"
      ],
      "metadata": {
        "id": "KHcBoiTTpKFv"
      },
      "execution_count": null,
      "outputs": []
    }
  ]
}