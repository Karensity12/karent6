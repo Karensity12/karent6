{
  "nbformat": 4,
  "nbformat_minor": 0,
  "metadata": {
    "colab": {
      "provenance": []
    },
    "kernelspec": {
      "name": "python3",
      "display_name": "Python 3"
    },
    "language_info": {
      "name": "python"
    }
  },
  "cells": [
    {
      "cell_type": "code",
      "execution_count": null,
      "metadata": {
        "id": "FdIOo-Emoaaa"
      },
      "outputs": [],
      "source": [
        "A=int(input(\"Ingrese el primer digito:\"))\n",
        "B=int(input(\"Ingrese el segundo digito:\"))\n",
        "ACUMULADOR=0\n",
        "\n",
        "while True:\n",
        "  ACUMULADOR+=A\n",
        "  B-=1\n",
        "\n",
        "  if B==0:  #Asegurarse de que el condicional if y break estén dentro del ciclo.\n",
        "    print(ACUMULADOR)\n",
        "    break"
      ]
    },
    {
      "cell_type": "code",
      "source": [
        "acum_notas=0\n",
        "num_notas=0\n",
        "\n",
        "while True:\n",
        "  nota=float(input(\"Ingrese una nota  entre 0 y 5, o ingrese -1 para terminar: \"))\n",
        "  if nota==-1:\n",
        "    break\n",
        "\n",
        "  if nota<0 or nota>5:\n",
        "    print(\"ERROR, ingrese una nota valida (0-5)\")\n",
        "    continue\n",
        "\n",
        "    acum_notas+=nota\n",
        "    num_notas+=1\n",
        "\n",
        "if num_notas>0:\n",
        "  promedio=acum_notas/num_notas\n",
        "  print(\"El promedio de notas es:\", promedio)\n",
        "\n",
        "else:\n",
        "  print(\"No se ingresaron datos\")\n"
      ],
      "metadata": {
        "id": "dWbO1mXjyKHf",
        "colab": {
          "base_uri": "https://localhost:8080/"
        },
        "outputId": "19ae949d-4634-404e-f572-e61fd844235e"
      },
      "execution_count": 16,
      "outputs": [
        {
          "output_type": "stream",
          "name": "stdout",
          "text": [
            "Ingrese una nota  entre 0 y 5, o ingrese -1 para terminar: 2.5\n",
            "Ingrese una nota  entre 0 y 5, o ingrese -1 para terminar: 5.0\n",
            "Ingrese una nota  entre 0 y 5, o ingrese -1 para terminar: -1\n",
            "No se ingresaron datos\n"
          ]
        }
      ]
    },
    {
      "cell_type": "code",
      "source": [
        "\n"
      ],
      "metadata": {
        "id": "GU0DoA1atfn3"
      },
      "execution_count": null,
      "outputs": []
    }
  ]
}